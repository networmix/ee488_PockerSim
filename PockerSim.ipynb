{
 "cells": [
  {
   "cell_type": "code",
   "execution_count": 13,
   "id": "d03b9c13",
   "metadata": {},
   "outputs": [],
   "source": [
    "from enum import IntEnum, Enum\n",
    "import random\n",
    "from collections import defaultdict\n",
    "from typing import NamedTuple, List\n",
    "\n",
    "\n",
    "class HandScore:\n",
    "    def __init__(self, hand_class, hand_class_qual, starting_ranks):\n",
    "        self.hand_class: HandClass = hand_class\n",
    "        self.hand_class_qual: List[Ranks] = hand_class_qual\n",
    "        self.starting_ranks: List[Ranks] = starting_ranks\n",
    "        hand_class_qual_hex_str = \"0\" * 5 + \"\".join(f\"{elt:x}\" for elt in self.hand_class_qual)\n",
    "        hand_class_qual_hex_str = hand_class_qual_hex_str[-5:]\n",
    "        starting_ranks_hex_str = \"\".join(f\"{elt:x}\" for elt in self.starting_ranks)\n",
    "        self.score = int(f\"{self.hand_class}{hand_class_qual_hex_str}{starting_ranks_hex_str}\", 16)\n",
    "\n",
    "    def __repr__(self):\n",
    "        return f\"{self.hand_class.name}{self.hand_class_qual}{self.starting_ranks}\"\n",
    "        \n",
    "    def __lt__(self, other):\n",
    "        return self.score < other.score\n",
    "        \n",
    "    def __eq__(self, other):\n",
    "        return self.score == other.score\n",
    "\n",
    "\n",
    "class HandClass(IntEnum):\n",
    "    HIGH_CARD = 1\n",
    "    ONE_PAIR = 2\n",
    "    TWO_PAIR = 3\n",
    "    THREE_OF_A_KIND = 4\n",
    "    STRAIGHT = 5\n",
    "    FLUSH = 6\n",
    "    FULL_HOUSE = 7\n",
    "    FOUR_OF_A_KIND = 8\n",
    "    STRAIGHT_FLUSH = 9\n",
    "\n",
    "\n",
    "class Suits(Enum):\n",
    "    CLUBS = 1\n",
    "    DIAMONDS = 2\n",
    "    HEARTS = 3\n",
    "    SPADES = 4\n",
    "\n",
    "\n",
    "class Ranks(IntEnum):\n",
    "    TWO = 2\n",
    "    THREE = 3\n",
    "    FOUR = 4\n",
    "    FIVE = 5\n",
    "    SIX = 6\n",
    "    SEVEN = 7\n",
    "    EIGHT = 8\n",
    "    NINE = 9\n",
    "    TEN = 10\n",
    "    JACK = 11\n",
    "    QUEEN = 12\n",
    "    KING = 13\n",
    "    ACE = 14\n",
    "\n",
    "    \n",
    "class Deck:\n",
    "    \"\"\"\n",
    "    Standard 52-card deck\n",
    "    13 ranks in each of the four suits: clubs (♣), diamonds (♦), hearts (♥) and spades (♠)\n",
    "    \"\"\"\n",
    "    def __init__(self):\n",
    "        self.deck = self._init_deck()\n",
    "        \n",
    "    def __len__(self):\n",
    "        return len(self.deck)\n",
    "    \n",
    "    def __str__(self):\n",
    "        return str(self.deck[::-1])\n",
    "        \n",
    "    def _init_deck(self):\n",
    "        deck = []\n",
    "        for suite in Suits:\n",
    "            for rank in Ranks:\n",
    "                deck.append(Card(suite, rank))\n",
    "        return deck\n",
    "\n",
    "    def shuffle(self):\n",
    "        random.shuffle(self.deck)\n",
    "    \n",
    "    def draw(self):\n",
    "        return self.deck.pop()\n",
    "        \n",
    "class Card:\n",
    "    def __init__(self, suite, rank):\n",
    "        self.suite = suite\n",
    "        self.rank = rank\n",
    "        \n",
    "    def __lt__(self, other):\n",
    "        return self.rank < other.rank\n",
    "    \n",
    "    def __eq__(self, other):\n",
    "        return self.rank == other.rank\n",
    "\n",
    "    def __repr__(self):\n",
    "        return f\"{self.rank.name}_{self.suite.name}\"\n",
    "\n",
    "\n",
    "class Player:\n",
    "    def __init__(self, game):\n",
    "        self.starting_hand = []\n",
    "        self.game = game\n",
    "        \n",
    "    def add_card(self, card):\n",
    "        self.starting_hand.append(card)\n",
    "        \n",
    "    def get_hand(self):        \n",
    "        return Hand(self.starting_hand, self.game.get_board())\n",
    "    \n",
    "    def get_score(self):\n",
    "        return self.get_hand().score()\n",
    "\n",
    "\n",
    "class Hand:\n",
    "    def __init__(self, starting_hand, board):\n",
    "        self.starting_hand = starting_hand\n",
    "        self.board = board\n",
    "        hand = starting_hand[:]\n",
    "        hand.extend(self.board)\n",
    "        self.hand = sorted(hand, reverse=True)\n",
    "        \n",
    "        self.hand_class = None\n",
    "        \n",
    "    def get_cards(self):\n",
    "        return self.hand[:]\n",
    "    \n",
    "    def get_starting_cards(self):\n",
    "        return self.starting_hand[:]\n",
    "\n",
    "    def score(self):\n",
    "        return Score.score(self.hand[:], self.starting_hand[:])\n",
    "\n",
    "    def __str__(self):\n",
    "        return str(self.hand)\n",
    "\n",
    "\n",
    "class Game:\n",
    "    def __init__(self, player_count):\n",
    "        self.hand_size = 2\n",
    "        self.cur_round = 0\n",
    "        self.score_log = []\n",
    "\n",
    "        self.board = []\n",
    "        self.discard = []\n",
    "        \n",
    "        self.deck = Deck()\n",
    "        self.players = [Player(self) for _ in range(player_count)]        \n",
    "        self.deck.shuffle()\n",
    "\n",
    "    def _draw_cards(self):\n",
    "        if self.cur_round == 0:\n",
    "            for _ in range(self.hand_size):\n",
    "                for player in self.players:\n",
    "                    player.add_card(self.deck.draw())\n",
    "        elif self.cur_round == 1:\n",
    "            self.discard.append(self.deck.draw())\n",
    "            for _ in range(3):\n",
    "                self.board.append(self.deck.draw())\n",
    "        else:\n",
    "            self.discard.append(self.deck.draw())\n",
    "            self.board.append(self.deck.draw())\n",
    "\n",
    "    def play_round(self):\n",
    "        self._draw_cards()\n",
    "        self.score_log.append([player.get_score() for player in self.players])\n",
    "        self.cur_round += 1\n",
    "\n",
    "    def play(self):\n",
    "        while self.cur_round <= 3:\n",
    "            self.play_round()\n",
    "\n",
    "    def get_starting_hands(self):\n",
    "        return [sorted(player.starting_hand[:], reverse=True) for player in self.players]\n",
    "    \n",
    "    def get_board(self):\n",
    "        return sorted(self.board[:], reverse=True)\n",
    "\n",
    "    def get_discard(self):\n",
    "        return sorted(self.discard[:], reverse=True)\n",
    "    \n",
    "    def get_score_log(self):\n",
    "        return self.score_log\n",
    "\n",
    "    \n",
    "class Score:    \n",
    "    @staticmethod\n",
    "    def _get_highest(cards):\n",
    "        return cards[0]\n",
    "\n",
    "    @staticmethod\n",
    "    def _get_seq(cards):\n",
    "        best_seq = [cards[0]]\n",
    "        cur_seq = [cards[0]]\n",
    "        \n",
    "        for card_idx in range(1, len(cards)):\n",
    "            if cards[card_idx].rank == cards[card_idx - 1].rank:\n",
    "                continue\n",
    "\n",
    "            elif cards[card_idx].rank == cards[card_idx - 1].rank - 1:\n",
    "                cur_seq.append(cards[card_idx])\n",
    "                if len(cur_seq) > len(best_seq):\n",
    "                    best_seq = cur_seq\n",
    "\n",
    "            else:\n",
    "                cur_seq = [cards[card_idx]]\n",
    "\n",
    "        return best_seq\n",
    "        \n",
    "    @staticmethod\n",
    "    def score(cards, starting_cards):\n",
    "        scores = defaultdict(list)\n",
    "        cards = sorted(cards, reverse=True)\n",
    "        starting_cards = [card.rank for card in sorted(starting_cards, reverse=True)]\n",
    "\n",
    "        rank_counter = defaultdict(int)\n",
    "        suite_counter = defaultdict(int)\n",
    "        for card in cards:\n",
    "            rank_counter[card.rank] += 1\n",
    "            suite_counter[card.suite] += 1\n",
    "            \n",
    "        for rank in sorted(rank_counter):\n",
    "            if rank_counter[rank] == 4:\n",
    "                scores[HandClass.FOUR_OF_A_KIND].append(HandScore(HandClass.FOUR_OF_A_KIND, [rank], starting_cards))\n",
    "            elif rank_counter[rank] == 3:\n",
    "                scores[HandClass.THREE_OF_A_KIND].append(HandScore(HandClass.THREE_OF_A_KIND, [rank], starting_cards))\n",
    "            elif rank_counter[rank] == 2:\n",
    "                scores[HandClass.ONE_PAIR].append(HandScore(HandClass.ONE_PAIR, [rank], starting_cards))\n",
    "        \n",
    "        if len(scores[HandClass.ONE_PAIR]) > 1:\n",
    "            scores[HandClass.TWO_PAIR].append(HandScore(HandClass.TWO_PAIR, [scores[HandClass.ONE_PAIR][-1].hand_class_qual[0], scores[HandClass.ONE_PAIR][-2].hand_class_qual[0]], starting_cards))\n",
    "            \n",
    "        if scores[HandClass.ONE_PAIR] and scores[HandClass.THREE_OF_A_KIND]:\n",
    "            scores[HandClass.FULL_HOUSE].append(HandScore(HandClass.FULL_HOUSE, [scores[HandClass.THREE_OF_A_KIND][-1].hand_class_qual[0], scores[HandClass.ONE_PAIR][-1].hand_class_qual[0]], starting_cards))\n",
    "\n",
    "        for suite in suite_counter:\n",
    "            if suite_counter[suite] >= 5:\n",
    "                flush_cards = [card.rank for card in cards if card.suite == suite]\n",
    "                scores[HandClass.FLUSH].append(HandScore(HandClass.FLUSH, flush_cards[:5], starting_cards))\n",
    "\n",
    "        best_seq = Score._get_seq(cards)\n",
    "        if len(best_seq) >= 5:\n",
    "            best_seq = best_seq[:5]\n",
    "            scores[HandClass.STRAIGHT].append(HandScore(HandClass.STRAIGHT, [card.rank for card in best_seq], starting_cards))\n",
    "        \n",
    "        if scores[HandClass.STRAIGHT] and scores[HandClass.FLUSH]:\n",
    "            scores[HandClass.STRAIGHT_FLUSH].append(HandScore(HandClass.STRAIGHT_FLUSH, scores[HandClass.STRAIGHT][-1].hand_class_qual, starting_cards))\n",
    "\n",
    "        scores[HandClass.HIGH_CARD].append(HandScore(HandClass.HIGH_CARD, starting_cards, starting_cards)) \n",
    "            \n",
    "        scores = {k:v for k, v in scores.items() if v}\n",
    "        return scores[sorted(scores.keys(), reverse=True)[0]][-1]\n"
   ]
  },
  {
   "cell_type": "code",
   "execution_count": 14,
   "id": "670aa3e8",
   "metadata": {},
   "outputs": [],
   "source": [
    "g = Game(4)"
   ]
  },
  {
   "cell_type": "code",
   "execution_count": 16,
   "id": "85fddf17",
   "metadata": {},
   "outputs": [
    {
     "data": {
      "text/plain": [
       "[[], [], [], []]"
      ]
     },
     "execution_count": 16,
     "metadata": {},
     "output_type": "execute_result"
    }
   ],
   "source": [
    "g.get_starting_hands()"
   ]
  },
  {
   "cell_type": "code",
   "execution_count": 17,
   "id": "7eccd69a",
   "metadata": {},
   "outputs": [
    {
     "data": {
      "text/plain": [
       "[]"
      ]
     },
     "execution_count": 17,
     "metadata": {},
     "output_type": "execute_result"
    }
   ],
   "source": [
    "g.get_board()"
   ]
  },
  {
   "cell_type": "code",
   "execution_count": 18,
   "id": "7e1f345c",
   "metadata": {},
   "outputs": [],
   "source": [
    "g.play()"
   ]
  },
  {
   "cell_type": "code",
   "execution_count": 19,
   "id": "aa3199b4",
   "metadata": {},
   "outputs": [
    {
     "data": {
      "text/plain": [
       "[[ACE_DIAMONDS, EIGHT_CLUBS],\n",
       " [FIVE_SPADES, FOUR_CLUBS],\n",
       " [JACK_DIAMONDS, TEN_CLUBS],\n",
       " [SEVEN_DIAMONDS, TWO_DIAMONDS]]"
      ]
     },
     "execution_count": 19,
     "metadata": {},
     "output_type": "execute_result"
    }
   ],
   "source": [
    "g.get_starting_hands()"
   ]
  },
  {
   "cell_type": "code",
   "execution_count": 9,
   "id": "b21bf214",
   "metadata": {},
   "outputs": [
    {
     "data": {
      "text/plain": [
       "[[HIGH_CARD[<Ranks.ACE: 14>, <Ranks.TEN: 10>][<Ranks.ACE: 14>, <Ranks.TEN: 10>],\n",
       "  HIGH_CARD[<Ranks.JACK: 11>, <Ranks.SEVEN: 7>][<Ranks.JACK: 11>, <Ranks.SEVEN: 7>],\n",
       "  HIGH_CARD[<Ranks.SIX: 6>, <Ranks.THREE: 3>][<Ranks.SIX: 6>, <Ranks.THREE: 3>],\n",
       "  HIGH_CARD[<Ranks.FIVE: 5>, <Ranks.TWO: 2>][<Ranks.FIVE: 5>, <Ranks.TWO: 2>]],\n",
       " [HIGH_CARD[<Ranks.ACE: 14>, <Ranks.TEN: 10>][<Ranks.ACE: 14>, <Ranks.TEN: 10>],\n",
       "  HIGH_CARD[<Ranks.JACK: 11>, <Ranks.SEVEN: 7>][<Ranks.JACK: 11>, <Ranks.SEVEN: 7>],\n",
       "  TWO_PAIR[<Ranks.SIX: 6>, <Ranks.THREE: 3>][<Ranks.SIX: 6>, <Ranks.THREE: 3>],\n",
       "  ONE_PAIR[<Ranks.TWO: 2>][<Ranks.FIVE: 5>, <Ranks.TWO: 2>]],\n",
       " [HIGH_CARD[<Ranks.ACE: 14>, <Ranks.TEN: 10>][<Ranks.ACE: 14>, <Ranks.TEN: 10>],\n",
       "  HIGH_CARD[<Ranks.JACK: 11>, <Ranks.SEVEN: 7>][<Ranks.JACK: 11>, <Ranks.SEVEN: 7>],\n",
       "  TWO_PAIR[<Ranks.SIX: 6>, <Ranks.THREE: 3>][<Ranks.SIX: 6>, <Ranks.THREE: 3>],\n",
       "  ONE_PAIR[<Ranks.TWO: 2>][<Ranks.FIVE: 5>, <Ranks.TWO: 2>]],\n",
       " [ONE_PAIR[<Ranks.SIX: 6>][<Ranks.ACE: 14>, <Ranks.TEN: 10>],\n",
       "  ONE_PAIR[<Ranks.SIX: 6>][<Ranks.JACK: 11>, <Ranks.SEVEN: 7>],\n",
       "  FULL_HOUSE[<Ranks.SIX: 6>, <Ranks.THREE: 3>][<Ranks.SIX: 6>, <Ranks.THREE: 3>],\n",
       "  TWO_PAIR[<Ranks.SIX: 6>, <Ranks.TWO: 2>][<Ranks.FIVE: 5>, <Ranks.TWO: 2>]]]"
      ]
     },
     "execution_count": 9,
     "metadata": {},
     "output_type": "execute_result"
    }
   ],
   "source": [
    "g.get_score_log()"
   ]
  },
  {
   "cell_type": "code",
   "execution_count": 10,
   "id": "206a3f91",
   "metadata": {},
   "outputs": [
    {
     "data": {
      "text/plain": [
       "ONE_PAIR[<Ranks.SIX: 6>][<Ranks.ACE: 14>, <Ranks.TEN: 10>]"
      ]
     },
     "execution_count": 10,
     "metadata": {},
     "output_type": "execute_result"
    }
   ],
   "source": [
    "g.get_score_log()[-1][0]"
   ]
  },
  {
   "cell_type": "code",
   "execution_count": 11,
   "id": "38d49940",
   "metadata": {},
   "outputs": [],
   "source": [
    "total_trials_count = 100000\n",
    "player_count = 4\n",
    "\n",
    "result_counter = defaultdict(int)\n",
    "results = []\n",
    "\n",
    "for _ in range(total_trials_count):\n",
    "    g = Game(player_count)\n",
    "    g.play()\n",
    "    result = g.get_score_log()[-1]\n",
    "    results.append(result)\n",
    "    for res in result:\n",
    "        result_counter[res.hand_class] += 1\n"
   ]
  },
  {
   "cell_type": "code",
   "execution_count": 12,
   "id": "37d893ee",
   "metadata": {},
   "outputs": [
    {
     "name": "stdout",
     "output_type": "stream",
     "text": [
      "HIGH_CARD: 0.176675\n",
      "ONE_PAIR: 0.4393675\n",
      "TWO_PAIR: 0.23608\n",
      "THREE_OF_A_KIND: 0.0483025\n",
      "STRAIGHT: 0.0417575\n",
      "FLUSH: 0.0289475\n",
      "FULL_HOUSE: 0.0253325\n",
      "FOUR_OF_A_KIND: 0.0016625\n",
      "STRAIGHT_FLUSH: 0.001875\n"
     ]
    }
   ],
   "source": [
    "for key in sorted(result_counter):\n",
    "    print(f\"{key.name}: {result_counter[key]/(total_trials_count * player_count)}\")\n"
   ]
  }
 ],
 "metadata": {
  "kernelspec": {
   "display_name": "Python 3 (ipykernel)",
   "language": "python",
   "name": "python3"
  },
  "language_info": {
   "codemirror_mode": {
    "name": "ipython",
    "version": 3
   },
   "file_extension": ".py",
   "mimetype": "text/x-python",
   "name": "python",
   "nbconvert_exporter": "python",
   "pygments_lexer": "ipython3",
   "version": "3.9.6"
  }
 },
 "nbformat": 4,
 "nbformat_minor": 5
}
